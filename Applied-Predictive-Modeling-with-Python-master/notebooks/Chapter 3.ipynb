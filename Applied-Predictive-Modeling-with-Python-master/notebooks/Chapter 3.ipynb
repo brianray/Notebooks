{
 "cells": [
  {
   "cell_type": "markdown",
   "metadata": {},
   "source": [
    "# 3. Data Pre-processing"
   ]
  },
  {
   "cell_type": "markdown",
   "metadata": {},
   "source": [
    "Data pre-processing techniques generally refer to the addition, deletion, or transformation of training set data. Different models have different sensitivities to the type of predictors in the model; *how* the predictors enter the model is also important.\n",
    "\n",
    "The need for data pre-processing is determined by the type of model being used. Some procedures, such as tree-based models, are notably insensitive to the characteristics of the predictor data. Others, like linear regression, are not. In this chapter, a wide array of possible methodologies are discussed. \n",
    "\n",
    "How the predictors are encoded, called *feature engineering*, can have a significant impact on model performance. Often the most effective encoding of the data is informed by the modeler's understanding of the problem and thus is not derived from any mathematical techniques."
   ]
  },
  {
   "cell_type": "markdown",
   "metadata": {},
   "source": [
    "## 3.1 Case Study: Cell Segmentation in High-Content Screening"
   ]
  },
  {
   "cell_type": "markdown",
   "metadata": {},
   "source": [
    "Check if data exists."
   ]
  },
  {
   "cell_type": "code",
   "execution_count": null,
   "metadata": {
    "collapsed": false
   },
   "outputs": [],
   "source": [
    "!ls -l ../datasets/segmentationOriginal/"
   ]
  },
  {
   "cell_type": "markdown",
   "metadata": {},
   "source": [
    "This dataset is from Hill et al. (2007) that consists of 2019 cells. Of these cells, 1300 were judged to be poorly segmented (PS) and 719 were well segmented (WS); 1009 cells were reserved for the training set."
   ]
  },
  {
   "cell_type": "code",
   "execution_count": null,
   "metadata": {
    "collapsed": false
   },
   "outputs": [],
   "source": [
    "import numpy as np\n",
    "import pandas as pd\n",
    "\n",
    "cell_segmentation = pd.read_csv(\"../datasets/segmentationOriginal/segmentationOriginal.csv\")"
   ]
  },
  {
   "cell_type": "code",
   "execution_count": null,
   "metadata": {
    "collapsed": false
   },
   "outputs": [],
   "source": [
    "cell_segmentation.shape"
   ]
  },
  {
   "cell_type": "markdown",
   "metadata": {},
   "source": [
    "A first look at the dataset."
   ]
  },
  {
   "cell_type": "code",
   "execution_count": null,
   "metadata": {
    "collapsed": false
   },
   "outputs": [],
   "source": [
    "cell_segmentation.head(5)"
   ]
  },
  {
   "cell_type": "markdown",
   "metadata": {},
   "source": [
    "This chapter will use the training set samples to demonstrate data pre-processing techniques."
   ]
  },
  {
   "cell_type": "code",
   "execution_count": null,
   "metadata": {
    "collapsed": false
   },
   "outputs": [],
   "source": [
    "cell_segmentation.groupby('Case').count()"
   ]
  },
  {
   "cell_type": "code",
   "execution_count": null,
   "metadata": {
    "collapsed": false
   },
   "outputs": [],
   "source": [
    "# separate training and test data\n",
    "cell_train = cell_segmentation.ix[cell_segmentation['Case'] == 'Train']\n",
    "cell_test = cell_segmentation.ix[cell_segmentation['Case'] == 'Test']\n",
    "\n",
    "cell_train.head(5)"
   ]
  },
  {
   "cell_type": "markdown",
   "metadata": {},
   "source": [
    "## 3.2 Data Transformation for Individual Predictors"
   ]
  },
  {
   "cell_type": "markdown",
   "metadata": {},
   "source": [
    "Transformations of predictor variables may be needed for several reasons. Some modeling techniques may have strict requirements, such as the predictors having a commom scale. In other cases, creating a good model may be difficult due to specific characteristics of the data (e.g., outliers)."
   ]
  },
  {
   "cell_type": "markdown",
   "metadata": {},
   "source": [
    "### Centering and Scaling"
   ]
  },
  {
   "cell_type": "markdown",
   "metadata": {},
   "source": [
    "To center a predictor variable, the average predictor value is substracted from all the values. As a result of centering, the predictor has a zero mean. Similarly, to scale the data, each value of the predictor variable is divided by its standard deviation. Scaling the data coerce the values to have a common standard deviation of one. These manipulations are generally used to improve the numerical stability of some calculations, such as PLS. The only real downside to these transformation is a loss of interpretability of the individual values."
   ]
  },
  {
   "cell_type": "markdown",
   "metadata": {},
   "source": [
    "### Transformations to Resolve Skewness"
   ]
  },
  {
   "cell_type": "markdown",
   "metadata": {},
   "source": [
    "An un-skewed distribution is one that is roughly symmetric. A rule of thumb to consider is that skewed data whose ratio of the highest value to the lowest value is greater than 20 have significant skewness. The sample skewness statistic is defined $$\\text{skewness} = {\\sum (x_i - \\bar{x})^3 \\over (n - 1) v^{3/2}},$$ where $$v = {\\sum (x_i - \\bar{x})^2 \\over (n - 1)}.$$ Note that the skewness for a normal distribution is zero."
   ]
  },
  {
   "cell_type": "markdown",
   "metadata": {},
   "source": [
    "The cell segmentation data contain a predictor that measures the standard deviation of the intensity of the pixels in the actin filaments."
   ]
  },
  {
   "cell_type": "code",
   "execution_count": null,
   "metadata": {
    "collapsed": false
   },
   "outputs": [],
   "source": [
    "%matplotlib inline\n",
    "import matplotlib.pyplot as plt\n",
    "\n",
    "# Some nice default configuration for plots\n",
    "plt.rcParams['figure.figsize'] = 10, 7.5\n",
    "plt.rcParams['axes.grid'] = True\n",
    "plt.gray()"
   ]
  },
  {
   "cell_type": "code",
   "execution_count": null,
   "metadata": {
    "collapsed": false
   },
   "outputs": [],
   "source": [
    "fig, (ax1, ax2, ax3) = plt.subplots(1, 3)\n",
    "\n",
    "ax1.hist(cell_train['VarIntenCh3'].values, bins=20)\n",
    "ax1.set_xlabel('Natural Units')\n",
    "ax1.set_ylabel('Count')\n",
    "\n",
    "ax2.hist(np.log(cell_train['VarIntenCh3'].values), bins=20)\n",
    "ax2.set_xlabel('Log Units')\n",
    "\n",
    "ax3.hist(np.sqrt(cell_train['VarIntenCh3'].values), bins=20)\n",
    "ax3.set_xlabel('Square Root Units')"
   ]
  },
  {
   "cell_type": "markdown",
   "metadata": {},
   "source": [
    "The histogram shows a strong right skewness. The log transformation seems to work well for this dataset. The ratio of the smallest to largest value and the sample skewness statistic all agree with the histogram under natural units."
   ]
  },
  {
   "cell_type": "code",
   "execution_count": null,
   "metadata": {
    "collapsed": false
   },
   "outputs": [],
   "source": [
    "from scipy.stats import skew\n",
    "\n",
    "r = np.max(cell_train['VarIntenCh3'].values)/np.min(cell_train['VarIntenCh3'].values)\n",
    "skewness = skew(cell_train['VarIntenCh3'].values)\n",
    "\n",
    "print 'Ratio of the smallest to largest value is {0} \\nSample skewness statistic is {1}'.format(r, skewness)"
   ]
  },
  {
   "cell_type": "markdown",
   "metadata": {},
   "source": [
    "Alternatively, statistical models can be used to empirically identify an appropriate transformation. One of the most famous transformations is the Box-Cox family, i.e.\n",
    "\\begin{equation}\n",
    "x^* = \\begin{cases} {x^{\\lambda}-1 \\over \\lambda} & \\text{if} \\ \\lambda \\neq 0 \\\\ log(x) & \\text{if} \\ \\lambda = 0 \\end{cases}\n",
    "\\end{equation}\n",
    "This family covers the log ($\\lambda = 0$), square ($\\lambda = 2$), square root ($\\lambda = 0.5$), inverse ($\\lambda = -1$), and others in-between. Using the training data, $\\lambda$ can be estimated using maximum likelihood estimation (MLE). This procedure would be applied independently to each predictor data that contain values **greater than 0**."
   ]
  },
  {
   "cell_type": "markdown",
   "metadata": {},
   "source": [
    "The boxcox() in *scipy.stats* finds the estimated lambda and performs the transformation at the same time."
   ]
  },
  {
   "cell_type": "code",
   "execution_count": null,
   "metadata": {
    "collapsed": false
   },
   "outputs": [],
   "source": [
    "from scipy.stats import boxcox\n",
    "\n",
    "print 'Estimated lambda is {0}'.format(boxcox(cell_train['VarIntenCh3'].values)[1])"
   ]
  },
  {
   "cell_type": "markdown",
   "metadata": {},
   "source": [
    "Take another predictor for example."
   ]
  },
  {
   "cell_type": "code",
   "execution_count": null,
   "metadata": {
    "collapsed": false
   },
   "outputs": [],
   "source": [
    "fig, (ax1, ax2) = plt.subplots(1, 2)\n",
    "\n",
    "ax1.hist(cell_train['PerimCh1'].values, bins=20)\n",
    "ax1.set_xlabel('Natural Units')\n",
    "ax1.set_ylabel('Count')\n",
    "\n",
    "ax2.hist(boxcox(cell_train['PerimCh1'].values)[0], bins=20)\n",
    "ax2.set_xlabel('Transformed Data (lambda = {:1.4f})'.format(boxcox(cell_train['PerimCh1'].values)[1]))"
   ]
  },
  {
   "cell_type": "markdown",
   "metadata": {},
   "source": [
    "## 3.3 Data Transformations for Multiple Predictors"
   ]
  },
  {
   "cell_type": "markdown",
   "metadata": {},
   "source": [
    "These transformations act on groups of predictors, typically the entire set under consideration. Of primary importance are methods to resolve outliers and reducce the dimension of the data."
   ]
  },
  {
   "cell_type": "markdown",
   "metadata": {},
   "source": [
    "### Transformations to Resolve Outliers"
   ]
  },
  {
   "cell_type": "markdown",
   "metadata": {},
   "source": [
    "We generally define outliers as samples that are exceptionally far from the mainstream of the data. Even with a thorough understanding of the data, outliers can be hard to define. However, we can often identify an unusual value by looking at a figure. When one or more samples are suspected to be outliers, the first step is to make sure that the values are scientifically valid and that no data recording errors have occured. Great care should be taken not to hastily remove or change values, especially if the sample size is small. With small sample sizes, apparent outliers might be a result of a skewed distribution where there are not yet enough data to see the skewness. Also, the outlying data may be an indication of a special part of the population under study that is just starting to be sampled. Depending on how the data were collected, a \"cluster\" of valid points that reside outside the mainstream of the data might belong to a different population than the other samples, e.g. *extrapolation* and *applicability domain*. "
   ]
  },
  {
   "cell_type": "markdown",
   "metadata": {},
   "source": [
    "There are several predictive models that are resistant to outliers, e.g.\n",
    "- Tree based classification models: creat splits of the training set.\n",
    "- Support Vector Machines (SVM) for classification: disregard a portion if tge training set that may be far away from the decision boundary."
   ]
  },
  {
   "cell_type": "markdown",
   "metadata": {},
   "source": [
    "If a model is considered to be sensitive to outliers, one data transformation that can minimize the problem is the *spatial sign*. Mathematically, each sample is divided by its squared norm: $$x_{ij}^* = {x_{ij} \\over \\sqrt{\\sum_{j=1}^p x_{ij}^2}}.$$ Since the denominator is intended to measure the squared distance to the center of the predictor's distribution, it is **important** to center and scale the predictor data prior to using this transformation. Note that, unlike centering and scaling, this manipulation of the predictors transform them as a group. Removing predictor variables after applying the spatial sign transformation may be problematic."
   ]
  },
  {
   "cell_type": "code",
   "execution_count": null,
   "metadata": {
    "collapsed": false
   },
   "outputs": [],
   "source": [
    "# toy example\n",
    "beta0 = -2.3 # intercept\n",
    "beta1 = 0.8 # slope\n",
    "n = 1000\n",
    "x1_true = np.random.normal(4, 2, n)\n",
    "x2_true = np.zeros(n)\n",
    "\n",
    "# generate a random sample\n",
    "for i in xrange(n):\n",
    "    x2_true[i] = beta0 + beta1*x1_true[i] + np.random.normal(size = 1)\n",
    "    \n",
    "# generate outliers\n",
    "x1_outliers = np.random.uniform(-4, -3, 8)\n",
    "x2_outliers = np.zeros(8)\n",
    "for i in xrange(8):\n",
    "    x2_outliers[i] = x1_outliers[i] + np.random.normal(size = 1)\n",
    "\n",
    "plt.scatter(x1_true, x2_true)\n",
    "plt.plot(x1_outliers, x2_outliers, 'ro', markersize=8)"
   ]
  },
  {
   "cell_type": "code",
   "execution_count": null,
   "metadata": {
    "collapsed": false
   },
   "outputs": [],
   "source": [
    "from sklearn.preprocessing import scale\n",
    "x1 = scale(np.concatenate([x1_true, x1_outliers]))\n",
    "x2 = scale(np.concatenate([x2_true, x2_outliers]))\n",
    "x = np.array(zip(x1, x2))\n",
    "\n",
    "# spatial sign\n",
    "dist = x[:, 0]**2 + x[:, 1]**2\n",
    "x1 = x[:, 0]/np.sqrt(dist)\n",
    "x2 = x[:, 1]/np.sqrt(dist)\n",
    "\n",
    "plt.scatter(x1[:-8], x2[:-8])\n",
    "plt.plot(x1[-7:], x2[-7:], 'ro', markersize=8)"
   ]
  },
  {
   "cell_type": "markdown",
   "metadata": {},
   "source": [
    "The *spatial sign* transformation brings the outliers towards the majority of the data."
   ]
  },
  {
   "cell_type": "markdown",
   "metadata": {},
   "source": [
    "### Data Reduction and Feature Extraction"
   ]
  },
  {
   "cell_type": "markdown",
   "metadata": {},
   "source": [
    "These methods reduce the data by generating a smaller set of predictors that seek to capture a majority of the information in the original variables. For most data reduction techniques, the new predictors are functions of the original predictors; therefore, all the original predictors are still needed to create the surrogate variables. This class of methods is often called *signal extraction* or *feature extraction* techniques."
   ]
  },
  {
   "cell_type": "markdown",
   "metadata": {},
   "source": [
    "Principal component analysis (PCA) seeks to find linear combinations of the predictors, known as principal components (PCs), which capture the most possible variance. The first PC is defined as the linear combination of the predictors that captures the most variability of all possible linear combinations. Then, subsequent PCs are derived such that these linear combinations capture the most remaining variability while also being uncorrelated with all previous PCs. Mathematically, \n",
    "$$\\text{PC}_j = (a_{j1} \\times \\text{Predictor 1}) + \\cdots + (a_{jP} \\times \\text{Predictor P}).$$\n",
    "P is the number of predictors. The coefficients $a_{j1}, \\cdots, a_{jP}$ are called component weights and help us understand which predictors are most important to each PC."
   ]
  },
  {
   "cell_type": "markdown",
   "metadata": {},
   "source": [
    "Let us look at an example from the previous dataset."
   ]
  },
  {
   "cell_type": "code",
   "execution_count": null,
   "metadata": {
    "collapsed": false
   },
   "outputs": [],
   "source": [
    "cell_train_subset = cell_train[['Class', 'FiberWidthCh1', 'EntropyIntenCh1']]"
   ]
  },
  {
   "cell_type": "code",
   "execution_count": null,
   "metadata": {
    "collapsed": false
   },
   "outputs": [],
   "source": [
    "colors = ['b', 'r']\n",
    "markers = ['s', 'o']\n",
    "c = ['PS', 'WS']\n",
    "for k, m in enumerate(colors):\n",
    "    i = (cell_train_subset['Class'] == c[k])\n",
    "    if k == 0:\n",
    "        plt.scatter(cell_train_subset['FiberWidthCh1'][i], cell_train_subset['EntropyIntenCh1'][i], \n",
    "                    c=m, marker=markers[k], alpha=0.4, s=26, label='PS')\n",
    "    else:\n",
    "        plt.scatter(cell_train_subset['FiberWidthCh1'][i], cell_train_subset['EntropyIntenCh1'][i], \n",
    "                    c=m, marker=markers[k], alpha=0.4, s=26, label='WS')\n",
    "\n",
    "plt.title('Original Data')\n",
    "plt.xlabel('Channel 1 Fiber Width')\n",
    "plt.ylabel('Entropy intensity of Channel 1')\n",
    "plt.legend(loc='upper right')\n",
    "plt.show()"
   ]
  },
  {
   "cell_type": "markdown",
   "metadata": {},
   "source": [
    "Calculate PCs"
   ]
  },
  {
   "cell_type": "code",
   "execution_count": null,
   "metadata": {
    "collapsed": false
   },
   "outputs": [],
   "source": [
    "from sklearn.decomposition import PCA\n",
    "\n",
    "pca = PCA()\n",
    "pca.fit(cell_train_subset[['FiberWidthCh1', 'EntropyIntenCh1']])\n",
    "print 'variance explained by PCs {0}'.format(pca.explained_variance_ratio_)"
   ]
  },
  {
   "cell_type": "markdown",
   "metadata": {},
   "source": [
    "The first PC summarizes 97% of the original variability, while the second summarizes 3%. Hence, it is reasonable to use only the first PC for modeling since it accounts for the majority of the information in the data."
   ]
  },
  {
   "cell_type": "code",
   "execution_count": null,
   "metadata": {
    "collapsed": false
   },
   "outputs": [],
   "source": [
    "cell_train_subset_pca = pca.transform(cell_train_subset[['FiberWidthCh1', 'EntropyIntenCh1']])\n",
    "\n",
    "colors = ['b', 'r']\n",
    "markers = ['s', 'o']\n",
    "c = ['PS', 'WS']\n",
    "for k, m in enumerate(colors):\n",
    "    i = np.where(cell_train_subset['Class'] == c[k])[0]\n",
    "    if k == 0:\n",
    "        plt.scatter(cell_train_subset_pca[i, 0], cell_train_subset_pca[i, 1], \n",
    "                    c=m, marker=markers[k], alpha=0.4, s=26, label='PS')\n",
    "    else:\n",
    "        plt.scatter(cell_train_subset_pca[i, 0], cell_train_subset_pca[i, 1], \n",
    "                    c=m, marker=markers[k], alpha=0.4, s=26, label='WS')\n",
    "\n",
    "plt.title('Transformed')\n",
    "plt.xlabel('Principal Component #1')\n",
    "plt.ylabel('Principal Component #2')\n",
    "plt.legend(loc='upper right')\n",
    "plt.show()"
   ]
  },
  {
   "cell_type": "markdown",
   "metadata": {},
   "source": [
    "The primary advantage of PCA is that it creates components that are uncorrelated. PCA preprocessing creates new predictors with desirable characteristics for models that prefer predictors to be uncorrelated."
   ]
  },
  {
   "cell_type": "markdown",
   "metadata": {},
   "source": [
    "While PCA delivers new predictors with desirable characteristics, it must be used with understanding and care. PCA seeks predictor-set variation without regard to any further understanding of the predictors (i.e. measurement scales or distributions) or to knowledge of the modeling objectives (i.e. response variable). Hence, without proper guidance, PCA can generate components that summarize characteristics of the data that are irrelevant to the underlying structure of the data and also to the ultimate modeling objectives."
   ]
  },
  {
   "cell_type": "markdown",
   "metadata": {},
   "source": [
    "PCA was applied to the entire set of segmentation data predictors."
   ]
  },
  {
   "cell_type": "code",
   "execution_count": null,
   "metadata": {
    "collapsed": false
   },
   "outputs": [],
   "source": [
    "cell_train.head(5)"
   ]
  },
  {
   "cell_type": "code",
   "execution_count": null,
   "metadata": {
    "collapsed": false
   },
   "outputs": [],
   "source": [
    "cell_train_feature = cell_train.iloc[:, 4:]\n",
    "cell_train_feature.head(5)"
   ]
  },
  {
   "cell_type": "markdown",
   "metadata": {},
   "source": [
    "Because PCA seeks linear combinations of predictors that maximize variability, it will naturally first be drawn to summarizing predictors that have more variation. If the original predictors are on measurement scales that differ in orders of magnitude or have skewed distributions, PCA will be focusing its efforts on identifying the data structure based on measurement scales and distributional difference rather than based on the important relationships within the data for the current problem. Hence, it is best to first transform skewed predictors and then center and scale the predictors prior to performing PCA."
   ]
  },
  {
   "cell_type": "code",
   "execution_count": null,
   "metadata": {
    "collapsed": false
   },
   "outputs": [],
   "source": [
    "# Box-Cox transformation on positive predictors\n",
    "# separate positive and non-positive predictors\n",
    "pos_indx = np.where(cell_train_feature.apply(lambda x: np.all(x > 0)))[0]\n",
    "cell_train_feature_pos = cell_train_feature.iloc[:, pos_indx]\n",
    "print \"# of positive features is {0}\".format(pos_indx.shape[0])\n",
    "cell_train_feature_nonpos = cell_train_feature.drop(cell_train_feature.columns[pos_indx], axis=1, inplace=False)\n",
    "print \"# of npn-positive features is {0}\".format(cell_train_feature.shape[1] - pos_indx.shape[0])\n",
    "\n",
    "cell_train_feature_pos_tr = cell_train_feature_pos.apply(lambda x: boxcox(x)[0])\n",
    "\n",
    "cell_train_feature_tr = np.c_[cell_train_feature_pos_tr, cell_train_feature_nonpos]\n",
    "print \"The shape before/after transformation is {0} and {1}\".format(cell_train_feature.shape, cell_train_feature_tr.shape)"
   ]
  },
  {
   "cell_type": "code",
   "execution_count": null,
   "metadata": {
    "collapsed": false
   },
   "outputs": [],
   "source": [
    "# scale and center predictors\n",
    "from sklearn.preprocessing import scale\n",
    "\n",
    "cell_train_feature_tr = scale(cell_train_feature_tr, with_mean=True, with_std=True)"
   ]
  },
  {
   "cell_type": "markdown",
   "metadata": {},
   "source": [
    "The second caveat of PCA is that it does not consider the modeling obejective or response variable when summarizing variability -- it is an *unsupervised technique*. If the predictive relationship between the predictors and response is not connected to the predictors' variability, then the derived PCs will not provide a suitable relationship with the response. In this case, a *supervised technique*, like PLS will derive components while simultaneously considering the corresponding response."
   ]
  },
  {
   "cell_type": "markdown",
   "metadata": {},
   "source": [
    "To decide how many components to retain after PCA, a heuristic approach is to create a scree plot, which contains the ordered component number (x-axis) and the ammount of summarized variability (y-axis). Generally, the component number prior to the tapering off of variation is the maximal component that is retained. In an automated model building process, the optimal number of components can be determined by cross-validation."
   ]
  },
  {
   "cell_type": "code",
   "execution_count": null,
   "metadata": {
    "collapsed": false
   },
   "outputs": [],
   "source": [
    "# conduct PCA to transformed predictors\n",
    "from sklearn.decomposition import PCA\n",
    "\n",
    "pca = PCA()\n",
    "pca.fit(cell_train_feature_tr)\n",
    "\n",
    "# generate scree plot\n",
    "plt.plot(pca.explained_variance_ratio_)\n",
    "plt.xlabel('Percent of Total Variance')\n",
    "plt.ylabel('Component')"
   ]
  },
  {
   "cell_type": "code",
   "execution_count": null,
   "metadata": {
    "collapsed": false
   },
   "outputs": [],
   "source": [
    "print \"The first four components account for {0} of the total variance\".format(pca.explained_variance_ratio_[:4])\n",
    "print \"All together they account for {0} of the total variance\".format(np.sum(pca.explained_variance_ratio_[:4]))"
   ]
  },
  {
   "cell_type": "markdown",
   "metadata": {},
   "source": [
    "Visually examining the principal components is a critical step for assessing data quality and gaining intuition for the problem. To do this, the first few PCs can be plotted against each other and the plot symbols can be colored by the relevant characteristics, such as the class labels. If PCA has captured a sufficient amount of the information in the data, this type of plot can demonstrate clusters of samples or outliers that may prompt a closer examination of the individual data points. Note that the scale of the components tend to become smaller as they account for less and less variation in the data. If axes are displayed on separate scales, there is the potential to over-interpret any patterns that might be seen for components that account for small amounts of variation."
   ]
  },
  {
   "cell_type": "code",
   "execution_count": null,
   "metadata": {
    "collapsed": false
   },
   "outputs": [],
   "source": [
    "# look at the first 3 PCs\n",
    "pca = PCA(n_components=3)\n",
    "cell_train_feature_pca = pca.fit_transform(cell_train_feature_tr)"
   ]
  },
  {
   "cell_type": "code",
   "execution_count": null,
   "metadata": {
    "collapsed": false
   },
   "outputs": [],
   "source": [
    "colors = ['b', 'r']\n",
    "markers = ['s', 'o']\n",
    "c = ['PS', 'WS']\n",
    "\n",
    "fig, axarr = plt.subplots(3, 3, sharex=True, sharey=True)\n",
    "\n",
    "# PC1 vs PC3\n",
    "for k, m in enumerate(colors):\n",
    "    i = np.where(cell_train['Class'] == c[k])[0]\n",
    "    if k == 0:\n",
    "        line1= axarr[0,0].scatter(cell_train_feature_pca[i, 0], cell_train_feature_pca[i, 2], \n",
    "                    c=m, marker=markers[k], alpha=0.4, s=26, label='PS')\n",
    "    else:\n",
    "        line2= axarr[0,0].scatter(cell_train_feature_pca[i, 0], cell_train_feature_pca[i, 2], \n",
    "                    c=m, marker=markers[k], alpha=0.4, s=26, label='WS')\n",
    "\n",
    "# PC2 vs PC3\n",
    "for k, m in enumerate(colors):\n",
    "    i = np.where(cell_train['Class'] == c[k])[0]\n",
    "    if k == 0:\n",
    "        axarr[0,1].scatter(cell_train_feature_pca[i, 1], cell_train_feature_pca[i, 2], \n",
    "                    c=m, marker=markers[k], alpha=0.4, s=26, label='PS')\n",
    "    else:\n",
    "        axarr[0,1].scatter(cell_train_feature_pca[i, 1], cell_train_feature_pca[i, 2], \n",
    "                    c=m, marker=markers[k], alpha=0.4, s=26, label='WS')\n",
    "\n",
    "# PC1 vs PC2\n",
    "for k, m in enumerate(colors):\n",
    "    i = np.where(cell_train['Class'] == c[k])[0]\n",
    "    if k == 0:\n",
    "        axarr[1,0].scatter(cell_train_feature_pca[i, 0], cell_train_feature_pca[i, 1], \n",
    "                    c=m, marker=markers[k], alpha=0.4, s=26, label='PS')\n",
    "    else:\n",
    "        axarr[1,0].scatter(cell_train_feature_pca[i, 0], cell_train_feature_pca[i, 1], \n",
    "                    c=m, marker=markers[k], alpha=0.4, s=26, label='WS')\n",
    "\n",
    "axarr[2,0].text(0.5, -1.0, 'PC1', ha='center', va='center', fontsize=24)      \n",
    "axarr[1,1].text(0.5, -1.0, 'PC2', ha='center', va='center', fontsize=24)      \n",
    "axarr[0,2].text(0.5, -1.0, 'PC3', ha='center', va='center', fontsize=24)\n",
    "fig.legend([line1, line2], ('PS', 'WS'), loc='upper center', ncol=2, frameon=False)\n",
    "fig.subplots_adjust(hspace=0.12, wspace=0.1)\n",
    "fig.text(0.5, 0.06, 'Scatter Plot Matrix', ha='center', va='center', fontsize=18)"
   ]
  },
  {
   "cell_type": "markdown",
   "metadata": {},
   "source": [
    "Since the percentages of variation explained are not large for the first three components, it is important not to over-interpret the resulting image. From this plot, there appears to be some separation between the classes when plotting the first and second components. However, the distribution of the well-segmented cells is roughly contained within the distribution of the poorly identified cells. One conclusion is that the cell types are not easily separated."
   ]
  },
  {
   "cell_type": "markdown",
   "metadata": {},
   "source": [
    "Another exploratory use of PCA is characterizing which predictors are associated with each component. Recall that each component is a linear combination of the predictors and the coefficient for each predictor is called the loading. Loadings close to zero indicate that the predictor variable did not contribute much to that component."
   ]
  },
  {
   "cell_type": "code",
   "execution_count": null,
   "metadata": {
    "collapsed": false
   },
   "outputs": [],
   "source": [
    "# loadings\n",
    "pca.components_.shape"
   ]
  },
  {
   "cell_type": "markdown",
   "metadata": {},
   "source": [
    "## 3.4 Dealing with Missing Values"
   ]
  },
  {
   "cell_type": "markdown",
   "metadata": {},
   "source": [
    "In many cases, some predictors have no values for a given sample. It is important to understand *why* the values are missing. First and foremost, it is important to know if the pattern of missing data is related to the outcome. This is called *informative missingness* since the missing data pattern is instructional on its own. Informative missingness can induce significant bias in the model."
   ]
  },
  {
   "cell_type": "markdown",
   "metadata": {},
   "source": [
    "Missing data should not be confused with *censored* data where the exact value is missing but something is known about its value. When building traditional statistical models focused on interpretation or inference, the censoring is usually taken in to account in a formal manner by making assumptions about the censoring mechanism. For predictive models, it is more common to treat these data as simple missing data or use the censored value as the observed value."
   ]
  },
  {
   "cell_type": "markdown",
   "metadata": {},
   "source": [
    "Missing values are more often related to predictive variables than the sample. Because of this, amount of missing data may be concentrated in a subset of predictors rather than occuring randomly across all the predictors. In some cases, the percentage of missing data is substantial enough to remove this predictor from subsequent modeling activities."
   ]
  },
  {
   "cell_type": "markdown",
   "metadata": {},
   "source": [
    "There are cases where the missing values might be concentrated in specific samples. For large datasets, removal of samples based on missing values is not a problem, assuming that the missingness is not informative. In smaller datasets, there is a steep price in removing samples; some of alternative approaches described below may be more appropriate."
   ]
  },
  {
   "cell_type": "markdown",
   "metadata": {},
   "source": [
    "If we do not remove the missing data, there are two general approaches. First, a few predictive models, especially tree-based techniques, can specifically account for missing data. Alternatively, missing data can be imputed. In this case, we can use information in the training set predictors to, in essence, estimate the values of other predictors."
   ]
  },
  {
   "cell_type": "markdown",
   "metadata": {},
   "source": [
    "Imputation is just another layer of modeling where we try to estimate values of the predictor variables based on other predictor variables. The most relevant scheme for accomplishing this is to use the training set to built an imputation model for each predictor in the daa set. Prior to model training or the prediction of new samples, missing values are filled in using imputation. Note that this extra layer of models adds uncertainty. If we are using resampling to select tuning parameter values or to estimate performance, the imputation should be incorporated within the resampling. This will increase the computational time for building models, but it will also provide honest estimates of model performance."
   ]
  },
  {
   "cell_type": "markdown",
   "metadata": {},
   "source": [
    "If the number of predictors affected by missing values is small, an exploratory analysis of the relationships between the preditors is a good idea. For example, visulization or methods like PCA can be used to determine if there are strong relationships between the predictors. If a variable with missing values is highly correlated with another predictor that has few missing values, a focused model can often be effective for imputation."
   ]
  },
  {
   "cell_type": "markdown",
   "metadata": {},
   "source": [
    "One popular technique for imputation is a $K$-nearest neighbor model. A new sample is imputed by finding the samples in the training set \"closest\" to it and averages these nearby points to fill in the value. One advantage of this approach is that the imputed data are confined to be within the range of the training set values. One disadvantage is that the entire training set is required every time a missing value needs to be imputed. Also, the number of neighbors is a tuning parameter, as is the method for determining \"closeness\" of two points. However, Troyanskaya et al. (2001) found the nearest neighbor approach to be fairly robust to the tuning parameters, as well as the amount of missing data."
   ]
  },
  {
   "cell_type": "code",
   "execution_count": null,
   "metadata": {
    "collapsed": false
   },
   "outputs": [],
   "source": [
    "# randomly sample 50 test set\n",
    "import random\n",
    "cell_test_subset = cell_test.iloc[np.sort(random.sample(range(cell_test.shape[0]), 50))]\n",
    "\n",
    "# separate features\n",
    "cell_test_subset_f = cell_test_subset.iloc[:, 4:].drop('VarIntenCh3', 1)\n",
    "cell_test_subset_v = cell_test_subset.iloc[:, 4:]['VarIntenCh3']\n",
    "cell_train_f = cell_train_feature.drop('VarIntenCh3', 1)\n",
    "cell_train_v = cell_train_feature['VarIntenCh3']"
   ]
  },
  {
   "cell_type": "code",
   "execution_count": null,
   "metadata": {
    "collapsed": false
   },
   "outputs": [],
   "source": [
    "# scale and center before imputation\n",
    "from sklearn.preprocessing import StandardScaler\n",
    "\n",
    "# standardize based on training set\n",
    "sc_f = StandardScaler()\n",
    "cell_train_f_sc = sc_f.fit_transform(cell_train_f)\n",
    "cell_test_subset_f_sc = sc_f.transform(cell_test_subset_f)\n",
    "\n",
    "sc_v = StandardScaler()\n",
    "cell_train_v_sc = sc_v.fit_transform(cell_train_v)\n",
    "cell_test_subset_v_sc = sc_v.transform(cell_test_subset_v)"
   ]
  },
  {
   "cell_type": "code",
   "execution_count": null,
   "metadata": {
    "collapsed": false
   },
   "outputs": [],
   "source": [
    "# use 5-nearest neighbor\n",
    "from sklearn.neighbors import NearestNeighbors\n",
    "\n",
    "nbrs = NearestNeighbors(n_neighbors = 5)\n",
    "nbrs.fit(cell_train_f_sc) # based on training set\n",
    "distance, indices = nbrs.kneighbors(cell_test_subset_f_sc) # neighbors for test set\n",
    "\n",
    "# imputation\n",
    "cell_test_subset_v_pred_knn = np.empty(50)\n",
    "for idx, i in enumerate(indices):\n",
    "    cell_test_subset_v_pred_knn[idx] = np.mean(cell_train_v_sc[i[1:]])"
   ]
  },
  {
   "cell_type": "markdown",
   "metadata": {},
   "source": [
    "Find the predictor with highest correlation."
   ]
  },
  {
   "cell_type": "code",
   "execution_count": null,
   "metadata": {
    "collapsed": false
   },
   "outputs": [],
   "source": [
    "from scipy.stats.stats import pearsonr\n",
    "\n",
    "print \"corr('VarIntenCh3', 'DiffIntenDensityCh3') is {0}\".format(pearsonr(cell_train_v, cell_train_f['DiffIntenDensityCh3'])[0])"
   ]
  },
  {
   "cell_type": "code",
   "execution_count": null,
   "metadata": {
    "collapsed": false
   },
   "outputs": [],
   "source": [
    "# use linear model\n",
    "from sklearn.linear_model import LinearRegression\n",
    "\n",
    "lm = LinearRegression()\n",
    "lm.fit(cell_train_f_sc[:, cell_train_f.columns.get_loc('DiffIntenDensityCh3')][:, np.newaxis],\n",
    "       cell_train_v_sc[:, np.newaxis]) # find the predictor with highest correlation\n",
    "cell_test_subset_v_pred_lm = \\\n",
    "lm.predict(cell_test_subset_f_sc[:, cell_train_f.columns.get_loc('DiffIntenDensityCh3')][:, np.newaxis])"
   ]
  },
  {
   "cell_type": "markdown",
   "metadata": {},
   "source": [
    "Correlation between the real and imputed values"
   ]
  },
  {
   "cell_type": "code",
   "execution_count": null,
   "metadata": {
    "collapsed": false
   },
   "outputs": [],
   "source": [
    "print \"kNN: {0}\".format(pearsonr(cell_test_subset_v_sc, cell_test_subset_v_pred_knn)[0])\n",
    "print \"Linear Model: {0}\".format(pearsonr(cell_test_subset_v_sc[:, np.newaxis], cell_test_subset_v_pred_lm)[0][0])"
   ]
  },
  {
   "cell_type": "markdown",
   "metadata": {},
   "source": [
    "Note that the better performance of linear model is because of the high correlation (0.895) between these two predictors. kNN is generally more robust since it takes all predictors into consideration."
   ]
  },
  {
   "cell_type": "code",
   "execution_count": null,
   "metadata": {
    "collapsed": false
   },
   "outputs": [],
   "source": [
    "fig, (ax1, ax2) = plt.subplots(1, 2)\n",
    "\n",
    "ax1.scatter(cell_test_subset_v_sc, cell_test_subset_v_pred_knn)\n",
    "ax1.set(xlim=(-1.5, 3), ylim=(-1.5, 3))\n",
    "ax1.plot(ax1.get_xlim(), ax1.get_ylim(), ls=\"--\", c=\".3\")\n",
    "ax1.set_title('5NN')\n",
    "\n",
    "ax2.scatter(cell_test_subset_v_sc, cell_test_subset_v_pred_lm)\n",
    "ax2.set(xlim=(-1.5, 3), ylim=(-1.5, 3))\n",
    "ax2.plot(ax2.get_xlim(), ax2.get_ylim(), ls=\"--\", c=\".3\")\n",
    "ax2.set_title('Linear Model')\n",
    "\n",
    "fig.text(0.5, 0.04, 'Original Value (centered and scaled)', ha='center', va='center')\n",
    "fig.text(0.06, 0.5, 'Imputed', ha='center', va='center', rotation='vertical')"
   ]
  },
  {
   "cell_type": "markdown",
   "metadata": {},
   "source": [
    "## 3.5 Removing Predictors"
   ]
  },
  {
   "cell_type": "markdown",
   "metadata": {},
   "source": [
    "There are potential advantages to removing predictors prior to modeling. First, fewer predictors means decreased computational time and complexity. Second, if two predictors are highly correlated, this implies that they are measuring the same underlying information. Removing one should not compromise the performance of the model and might lead to a more parsimonious and interpretable model. Third, some models can be crippled by predictors with degenerate distributions, e.g. near-zero variance predictors. In these cases, there can be a significant improvement in model performance and/or stability without the problematic variables."
   ]
  },
  {
   "cell_type": "markdown",
   "metadata": {},
   "source": [
    "A rule of thumb for detecting near-zero variance predictors:\n",
    "- The fraction of unique values over the sample size is low (say 10%)\n",
    "- The ratio of the frequency of the most prevalent value to the frequency of the second most prevalent value is large (say around 20)\n",
    "\n",
    "If both of these criteria are true and the model in question is susceptible to this type of predictor, it may be advantageous to remove the variable from the model."
   ]
  },
  {
   "cell_type": "markdown",
   "metadata": {},
   "source": [
    "### Between-Predictor Correlations"
   ]
  },
  {
   "cell_type": "markdown",
   "metadata": {},
   "source": [
    "*Collinearity* is the technical term for the situation where a pair of predictor variables have a substantial correlation with each other. It is also possible to have relationships between multiple predictors at once (called *multicollinearity*)."
   ]
  },
  {
   "cell_type": "markdown",
   "metadata": {},
   "source": [
    "A direct visualization of the correlation matrix from the training set."
   ]
  },
  {
   "cell_type": "code",
   "execution_count": null,
   "metadata": {
    "collapsed": false
   },
   "outputs": [],
   "source": [
    "# calculate the correlation matrix\n",
    "corr_dataframe = cell_train_feature.corr()\n",
    "\n",
    "# compute hierarchical cluster on both rows and columns for correlation matrix and plot heatmap \n",
    "def corr_heatmap(corr_dataframe):\n",
    "    import scipy.cluster.hierarchy as sch\n",
    "    \n",
    "    corr_matrix = np.array(corr_dataframe)\n",
    "    col_names = corr_dataframe.columns\n",
    "    \n",
    "    Y = sch.linkage(corr_matrix, 'single', 'correlation')\n",
    "    Z = sch.dendrogram(Y, color_threshold=0, no_plot=True)['leaves']\n",
    "    corr_matrix = corr_matrix[Z, :]\n",
    "    corr_matrix = corr_matrix[:, Z]\n",
    "    col_names = col_names[Z]\n",
    "    im = plt.imshow(corr_matrix, interpolation='nearest', aspect='auto', cmap='bwr')\n",
    "    plt.colorbar()\n",
    "    plt.xticks(range(corr_matrix.shape[0]), col_names, rotation='vertical', fontsize=4)\n",
    "    plt.yticks(range(corr_matrix.shape[0]), col_names[::-1], fontsize=4)\n",
    "    \n",
    "# plot\n",
    "corr_heatmap(corr_dataframe)"
   ]
  },
  {
   "cell_type": "markdown",
   "metadata": {},
   "source": [
    "Note that the predictor variables have been grouped using a clustering technique so that collinear groups of predictors are adjacent to one another."
   ]
  },
  {
   "cell_type": "markdown",
   "metadata": {},
   "source": [
    "When the data set consists of too many predictors to examine visually, techniques such as PCA can be used to characterize the magnitude of the problem. For example, if the first principal component accounts for a large percentage of the variance, this implies that there is at least one group of predictors that represent the same information. The PCA loadings can be used to understand which predictors are associated with each component to tease out this relationship."
   ]
  },
  {
   "cell_type": "markdown",
   "metadata": {},
   "source": [
    "In general, there are good reasons to avoid data with highly correlated predictors. First, redundant predictors frequently add more complexity to the model than information they provide to the model. In situations where obtaining the predictor data is costly, fewer variables is obviously better. Using highly correlated predictors in techniques like linear regression can result in highly unstable models, numerical values, and degraded predictive performances."
   ]
  },
  {
   "cell_type": "markdown",
   "metadata": {},
   "source": [
    "Classical regression analysis has several tools to diagnose multicollinearity for linear regression. A statistic called the variance inflation factor (VIF) can be used to identify predictors that are impacted. A common rule of thumb is that if VIF > 5, then multicollinearity is high. Note that this method is developed for linear models, it requires more samples than predictor variables and it does not determine which should be removed to resolve the problem"
   ]
  },
  {
   "cell_type": "markdown",
   "metadata": {},
   "source": [
    "A more heuristic approach is to remove the minimum number of predictors to ensure that all pairwise correlation are below a certain threshold. The algorithm is as follows:\n",
    "- Calculate the correlation matrix of the predictors.\n",
    "- Determine the two predictors associated with the largest absolute pairwise correlation (A and B).\n",
    "- Determine the average absolute correlation between A and the other variables. Do the same for predictor B.\n",
    "- If A has a larger average correlation, remove it; otherwise, remove predictor B.\n",
    "- Repeat Steps 2-4 until no absolute correlations are above the threshold.\n",
    "\n",
    "Suppose we wanted to use a model that is particularly sensitive to between predictor correlations, we might apply a threshold of 0.75."
   ]
  },
  {
   "cell_type": "markdown",
   "metadata": {},
   "source": [
    "As previously mentioned, feature extraction methods (e.g., principal components) are another technique for mitigating the effect of strong correlations between predictors. However, these techniques make the connection between the predictors and the outcome more complex. Additionally, since signal extraction methods are usually unsupervised, there is no guarantee that the resulting surrogate preditors have any relationship with the outcome."
   ]
  },
  {
   "cell_type": "markdown",
   "metadata": {},
   "source": [
    "## 3.6 Adding Predictors"
   ]
  },
  {
   "cell_type": "markdown",
   "metadata": {},
   "source": [
    "When a predictor is categorical, it is common to decompose the predictor into a set of more specific variables."
   ]
  },
  {
   "cell_type": "markdown",
   "metadata": {},
   "source": [
    "Look at the following example for the credit scoring data."
   ]
  },
  {
   "cell_type": "code",
   "execution_count": null,
   "metadata": {
    "collapsed": false
   },
   "outputs": [],
   "source": [
    "!ls -l ../datasets/GermanCredit/"
   ]
  },
  {
   "cell_type": "code",
   "execution_count": null,
   "metadata": {
    "collapsed": false
   },
   "outputs": [],
   "source": [
    "credit_data = pd.read_csv(\"../datasets/GermanCredit/GermanCredit.csv\")\n",
    "credit_data.head(5)"
   ]
  },
  {
   "cell_type": "code",
   "execution_count": null,
   "metadata": {
    "collapsed": false
   },
   "outputs": [],
   "source": [
    "credit_data.shape"
   ]
  },
  {
   "cell_type": "markdown",
   "metadata": {},
   "source": [
    "The predictor based on how much money was in the applicant's saving account is categorical coded into dummy variables."
   ]
  },
  {
   "cell_type": "code",
   "execution_count": null,
   "metadata": {
    "collapsed": false
   },
   "outputs": [],
   "source": [
    "credit_data_saving = credit_data[['SavingsAccountBonds.lt.100', 'SavingsAccountBonds.100.to.500', \n",
    "                                  'SavingsAccountBonds.500.to.1000', 'SavingsAccountBonds.gt.1000', \n",
    "                                  'SavingsAccountBonds.Unknown']]\n",
    "credit_data_saving.head(10)"
   ]
  },
  {
   "cell_type": "code",
   "execution_count": null,
   "metadata": {
    "collapsed": false
   },
   "outputs": [],
   "source": [
    "credit_data_saving.apply(np.sum)"
   ]
  },
  {
   "cell_type": "markdown",
   "metadata": {},
   "source": [
    "| Value    |  n   | <100 | 100-500 | 500-1000 | >1000 | Unknown |                                           \n",
    "|:---------|:----:|:----:|:-------:|:--------:|:-----:|:-------:|\n",
    "| < 100    | 603  |   1  |   0     |    0     |   0   |    0    |\n",
    "| 100-500  | 100  |   0  |   1     |    0     |   0   |    0    |\n",
    "| 500-1000 |  63  |   0  |   0     |    1     |   0   |    0    |\n",
    "| >1000    |  48  |   0  |   0     |    0     |   1   |    0    |\n",
    "| Unknown  | 183  |   0  |   0     |    0     |   0   |    1    |\n"
   ]
  },
  {
   "cell_type": "markdown",
   "metadata": {},
   "source": [
    "Usually, each category gets its own dummy variable that is a zero/one indicator for that group. Only four dummy variables are needed here, the fifth can be inferred. However, the decision to include all of the dummy variables can depend on the choice of the model. Models that include an intercept term, such as simple linear model, would have numerical issues if each dummy variable was included in the model. The reason is that, for each sample, these variables all add up to one and this would provide the same information as the intercept. If the model is insensitive to this type of issue, using the complete set of dummy variables would help improve interpretation of the model."
   ]
  },
  {
   "cell_type": "markdown",
   "metadata": {},
   "source": [
    "Many of the advanced models automatically generate highly complex, nonlinear relationships between the predictors and the outcome. More simplistic models do not unless the user manually specifices which predictors should be nonlinear and in what way. Another technique to augment the prediction data for classification model is through the \"*class centroids*\", which are the centers of the predictor data for each class. For each predictor, the distance to each class centroid can be calculated and these distances can be added to the model."
   ]
  },
  {
   "cell_type": "markdown",
   "metadata": {},
   "source": [
    "## 3.7 Binning Predictors (to avoid)"
   ]
  },
  {
   "cell_type": "markdown",
   "metadata": {},
   "source": [
    "There are many issues with the manual binning of continuous data. First, there can be a significant loss of performance in the model. Second, there is a loss of precision in the predictions when the predictors are categorized. Unfortunately, the predictive models that are most powerful are usually the least interpretable. The bottom line is that the perceived improvement in interpretability gained by manual categorization is usually offset by a significant loss in performance."
   ]
  },
  {
   "cell_type": "markdown",
   "metadata": {},
   "source": [
    "Note that the argument here is related to the *manual* categorization of predictors prior to model building. There are several models, such as classification/regression trees and multivariate adaptive regression splines, that estimate cut points in the process of model building. The difference between these methodologies and manual binning is that the models ues all the predictors to derive bins based on a single objective (such as maximizing accuracy). They evaluate many variable simultaneously and are usually based on statistically sound methodologies."
   ]
  },
  {
   "cell_type": "code",
   "execution_count": null,
   "metadata": {
    "collapsed": true
   },
   "outputs": [],
   "source": []
  }
 ],
 "metadata": {
  "kernelspec": {
   "display_name": "Python 2",
   "language": "python",
   "name": "python2"
  },
  "language_info": {
   "codemirror_mode": {
    "name": "ipython",
    "version": 2
   },
   "file_extension": ".py",
   "mimetype": "text/x-python",
   "name": "python",
   "nbconvert_exporter": "python",
   "pygments_lexer": "ipython2",
   "version": "2.7.11"
  }
 },
 "nbformat": 4,
 "nbformat_minor": 0
}
